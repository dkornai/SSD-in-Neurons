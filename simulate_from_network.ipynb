{
 "cells": [
  {
   "cell_type": "code",
   "execution_count": null,
   "id": "42db86f2-9e52-41d3-acee-54c0745e247c",
   "metadata": {},
   "outputs": [],
   "source": [
    "import networkx as nx\n",
    "import numpy as np; np.set_printoptions(suppress=True)\n",
    "import pandas as pd\n",
    "import matplotlib.pyplot as plt\n",
    "import scipy.integrate as integrate\n",
    "\n",
    "from simulate import ODE_simulate, GILL_simulate\n",
    "from plot_module import plot_ODE, plot_gillespie, plot_network\n",
    "from sim_param_from_network import names_from_network, gillespie_reaction_dict_from_network, dataframes_from_network, ODE_from_network\n",
    "from network_generate import linear_network"
   ]
  },
  {
   "cell_type": "code",
   "execution_count": null,
   "id": "11246477-794f-495e-9129-55f33db04753",
   "metadata": {},
   "outputs": [],
   "source": [
    "MAX_T = 5000\n",
    "TIME_POINTS = np.linspace(0, MAX_T, 500)"
   ]
  },
  {
   "cell_type": "markdown",
   "id": "5563f369-f830-4ae8-8815-5fc878757abd",
   "metadata": {},
   "source": [
    "## Define network topology and numeric parameters"
   ]
  },
  {
   "cell_type": "code",
   "execution_count": null,
   "id": "44f77b84-66c8-4695-bf65-008af89ae655",
   "metadata": {
    "tags": []
   },
   "outputs": [],
   "source": [
    "# G = nx.DiGraph()\n",
    "\n",
    "# G.add_node('N1', birth_type=2, c_b = 0.1, birth_rate = 0.07, nss=200, delta = 0.5, death_rate = 0.07,)\n",
    "# G.add_node('N2', birth_type=1, c_b = 0.1, birth_rate = 0.07, nss=200, delta = 0.5, death_rate = 0.07,)\n",
    "# G.add_node('N3', birth_type=1, c_b = 0.1, birth_rate = 0.07, nss=200, delta = 0.5, death_rate = 0.07,)\n",
    "# G.add_node('N4', birth_type=1, c_b = 0.1, birth_rate = 0.07, nss=200, delta = 0.5, death_rate = 0.07,)\n",
    "# G.add_node('N5', birth_type=1, c_b = 0.1, birth_rate = 0.07, nss=200, delta = 0.5, death_rate = 0.07,)\n",
    "\n",
    "# G.add_edge('N1', 'N2', rate=0.15)\n",
    "# G.add_edge('N2', 'N3', rate=0.15)\n",
    "# G.add_edge('N3', 'N4', rate=0.15)\n",
    "# G.add_edge('N4', 'N5', rate=0.15)\n",
    "# G.add_edge('N5', 'N1', rate=0.15)\n",
    "\n",
    "# plot_network(G)\n",
    "# VARS, COMP = names_from_network(G)\n",
    "\n",
    "# # set a given starting state\n",
    "# start_state = [190, 20, 190, 20, 190, 20, 190, 20, 190, 20]"
   ]
  },
  {
   "cell_type": "code",
   "execution_count": null,
   "id": "7d0f2d59-55ce-4286-b779-a20f414a9e5e",
   "metadata": {},
   "outputs": [],
   "source": [
    "# G = nx.DiGraph()\n",
    "\n",
    "# G.add_node('Soma', birth_type=2, c_b = 0.1, birth_rate = 0.14, nss=200, delta = 0.5, death_rate = 0.07,)\n",
    "# G.add_node('Axon', birth_type=0, c_b = 0.1, birth_rate = 0.00, nss=200, delta = 0.5, death_rate = 0.07,)\n",
    "\n",
    "# G.add_edge('Soma', 'Axon', rate=0.14)\n",
    "# G.add_edge('Axon', 'Soma', rate=0.07)\n",
    "\n",
    "# plot_network(G)\n",
    "# VARS, COMP = names_from_network(G)\n",
    "\n",
    "# # set a given starting state\n",
    "# start_state = [190, 20, 190, 20]"
   ]
  },
  {
   "cell_type": "code",
   "execution_count": null,
   "id": "2d8aff8e-f8ab-4109-82f3-06dfd602fda1",
   "metadata": {},
   "outputs": [],
   "source": [
    "gamma_ant = 0.1\n",
    "gamma_ret = 0.05\n",
    "mu = 0.07\n",
    "\n",
    "G = nx.DiGraph()\n",
    "\n",
    "G.add_node('N0', birth_type=2, c_b = 0.1, birth_rate = 2*mu, nss=200, delta = 0.5, death_rate = mu,)\n",
    "\n",
    "G.add_edge('N0', 'N1', rate=gamma_ant)\n",
    "G.add_node('N1', birth_type=0, nss=-1, death_rate = mu,)\n",
    "G.add_edge('N1', 'N0', rate=gamma_ret)\n",
    "\n",
    "G.add_edge('N1', 'N2', rate=gamma_ant)\n",
    "G.add_node('N2', birth_type=0, nss=-1, death_rate = mu,)\n",
    "G.add_edge('N2', 'N1', rate=gamma_ret)\n",
    "\n",
    "G.add_edge('N2', 'N3', rate=gamma_ant)\n",
    "G.add_node('N3', birth_type=0, nss=-1, death_rate = mu,)\n",
    "G.add_edge('N3', 'N2', rate=gamma_ret)\n",
    "\n",
    "G.add_edge('N3', 'N4', rate=gamma_ant)\n",
    "G.add_node('N4', birth_type=0, nss=-1, death_rate = mu,)\n",
    "G.add_edge('N4', 'N3', rate=gamma_ret)\n",
    "\n",
    "G.add_edge('N4', 'N5', rate=gamma_ant)\n",
    "G.add_node('N5', birth_type=0, nss=-1, death_rate = mu,)\n",
    "G.add_edge('N5', 'N4', rate=gamma_ret)\n",
    "\n",
    "G.add_edge('N5', 'N6', rate=gamma_ant)\n",
    "G.add_node('N6', birth_type=0, nss=-1, death_rate = mu,)\n",
    "G.add_edge('N6', 'N5', rate=gamma_ret)\n",
    "\n",
    "G.add_edge('N6', 'N7', rate=gamma_ant)\n",
    "G.add_node('N7', birth_type=0, nss=-1, death_rate = mu,)\n",
    "G.add_edge('N7', 'N6', rate=gamma_ret)\n",
    "\n",
    "G.add_edge('N7', 'N8', rate=gamma_ant)\n",
    "G.add_node('N8', birth_type=0, nss=-1, death_rate = mu,)\n",
    "G.add_edge('N8', 'N7', rate=gamma_ret)\n",
    "\n",
    "plot_network(G)\n",
    "VARS, COMP = names_from_network(G)\n",
    "\n",
    "# set a given starting state\n",
    "start_state = [190, 20, 190, 20, 190, 20, 190, 20, 190, 20, 190, 20, 190, 20, 190, 20, 190, 20]"
   ]
  },
  {
   "cell_type": "code",
   "execution_count": null,
   "id": "6a65aecd-af5b-4985-9a70-b273930ca387",
   "metadata": {},
   "outputs": [],
   "source": [
    "bio_param = {'c_b' : 0.1, 'mu_a' : 0.14, 'nss' : 200, 'delta' : 0.5, 'mu' : 0.07,'gamma_ant':0.10, 'gamma_ret':0.05}\n",
    "G, VARS, COMP, start_state = linear_network(5, bio_param, [190, 20])\n",
    "plot_network(G)"
   ]
  },
  {
   "cell_type": "markdown",
   "id": "64b91a0c-fe97-4123-8ed3-963c787f27c0",
   "metadata": {},
   "source": [
    "## Get ODE representation of network, and run simulation"
   ]
  },
  {
   "cell_type": "code",
   "execution_count": null,
   "id": "30a29178-1a56-46ce-915e-3e3f33d94e23",
   "metadata": {},
   "outputs": [],
   "source": [
    "ODE_model = ODE_from_network(G)"
   ]
  },
  {
   "cell_type": "code",
   "execution_count": null,
   "id": "495e63ed-6c0c-4554-b4bc-e9582be4252a",
   "metadata": {},
   "outputs": [],
   "source": [
    "ode_results = ODE_simulate(ODE_model, TIME_POINTS, start_state)\n",
    "plot_ODE(ode_results, TIME_POINTS, 0.5, VARS, COMP)"
   ]
  },
  {
   "cell_type": "markdown",
   "id": "f9c1714e-efe6-45dd-8aa8-2224dd8064f2",
   "metadata": {},
   "source": [
    "## Get gillespie simulation for network"
   ]
  },
  {
   "cell_type": "code",
   "execution_count": null,
   "id": "033bf35e-0ddb-4b22-934f-a39b9e18bb61",
   "metadata": {},
   "outputs": [],
   "source": [
    "gill_param = gillespie_reaction_dict_from_network(G)"
   ]
  },
  {
   "cell_type": "code",
   "execution_count": null,
   "id": "f502658d-7ea9-4a5f-980c-884375f6fff6",
   "metadata": {},
   "outputs": [],
   "source": [
    "gill_results = GILL_simulate(gill_param, TIME_POINTS, start_state, replicates=1000)"
   ]
  },
  {
   "cell_type": "code",
   "execution_count": null,
   "id": "7eb9de5b-3d40-4993-95be-94ca5354698c",
   "metadata": {},
   "outputs": [],
   "source": [
    "plot_gillespie(gill_results, TIME_POINTS, 0.5, VARS, COMP)"
   ]
  }
 ],
 "metadata": {
  "kernelspec": {
   "display_name": "Python 3 (ipykernel)",
   "language": "python",
   "name": "python3"
  },
  "language_info": {
   "codemirror_mode": {
    "name": "ipython",
    "version": 3
   },
   "file_extension": ".py",
   "mimetype": "text/x-python",
   "name": "python",
   "nbconvert_exporter": "python",
   "pygments_lexer": "ipython3",
   "version": "3.9.16"
  }
 },
 "nbformat": 4,
 "nbformat_minor": 5
}
