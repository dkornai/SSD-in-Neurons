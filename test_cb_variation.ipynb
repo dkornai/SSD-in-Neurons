{
 "cells": [
  {
   "cell_type": "code",
   "execution_count": 2,
   "id": "2ab294e0-1093-467b-a1ff-d11894ae5893",
   "metadata": {
    "tags": []
   },
   "outputs": [],
   "source": [
    "import networkx as nx\n",
    "import pickle\n",
    "\n",
    "import numpy as np; np.set_printoptions(suppress=True, linewidth=180); np.seterr(divide='ignore')\n",
    "import pandas as pd; pd.set_option('display.width', 500)\n",
    "import matplotlib.pyplot as plt\n",
    "\n",
    "from plot_module import plot_ode_results, plot_sde_results, plot_simulator_graph, plot_neuron_graph_subset, plot_twocomponent_results\n",
    "from sim_param_from_network import names_from_network, sde_param_from_network, ode_from_network, start_state_from_nodes\n",
    "from neuron_graph_process import neuron_graph_process\n",
    "from neuron_graph_helper import load_pickled_neuron_graph\n",
    "from analyse_simulation import two_component_statistics\n",
    "\n",
    "from simulate import simulate_ode, simulate_gillespie, simulate_tauleaping"
   ]
  },
  {
   "cell_type": "code",
   "execution_count": 3,
   "id": "79868449-8b2a-45b1-ba7d-42c3b94b1417",
   "metadata": {
    "tags": []
   },
   "outputs": [],
   "source": [
    "G = load_pickled_neuron_graph('neuron_graphs/2_compartment_model.pkl')"
   ]
  },
  {
   "cell_type": "code",
   "execution_count": 8,
   "id": "a2e933bd-0eb0-4f27-8174-a1b1c42abb44",
   "metadata": {
    "tags": []
   },
   "outputs": [
    {
     "data": {
      "text/plain": [
       "[1.0,\n",
       " 0.5,\n",
       " 0.1,\n",
       " 0.05,\n",
       " 0.01,\n",
       " 0.005,\n",
       " 0.001,\n",
       " 0.0005,\n",
       " 0.0001,\n",
       " 5e-05,\n",
       " 1e-05,\n",
       " 5e-06,\n",
       " 1e-06,\n",
       " 5e-07,\n",
       " 1e-07,\n",
       " 5e-08,\n",
       " 1e-08,\n",
       " 5e-09,\n",
       " 1e-09,\n",
       " 5e-10,\n",
       " 1e-10,\n",
       " 5e-11,\n",
       " 1e-11,\n",
       " 5e-12]"
      ]
     },
     "execution_count": 8,
     "metadata": {},
     "output_type": "execute_result"
    }
   ],
   "source": [
    "DELTA = 0.25\n",
    "G.nodes()['S0B']['delta'] = DELTA\n",
    "\n",
    "VARS, NODES = names_from_network(G)\n",
    "START_STATE = start_state_from_nodes(G, heteroplasmy=0.5, delta=DELTA)\n",
    "\n",
    "\n",
    "C_B_val = sequence = [round(i * 10**-decimals, 14) for decimals in range(1, 13) for i in range(10, 0, -1)]\n",
    "\n",
    "C_B_val = [element for i, element in enumerate(C_B_val) if i % 5 == 0] # sparseify for testing\n",
    "C_B_val"
   ]
  },
  {
   "cell_type": "code",
   "execution_count": 9,
   "id": "b3542b7e-f9a9-4b99-a65d-bc0ad8acd83b",
   "metadata": {
    "tags": []
   },
   "outputs": [
    {
     "name": "stdout",
     "output_type": "stream",
     "text": [
      "\n",
      "<<<< STARTING SIMULATION WITH C_B = 1.0 >>>>\n",
      "\n",
      "simulating using gillespie...\n"
     ]
    },
    {
     "name": "stderr",
     "output_type": "stream",
     "text": [
      "100%|██████████| 60/60 [00:10<00:00,  5.54it/s]\n"
     ]
    },
    {
     "name": "stdout",
     "output_type": "stream",
     "text": [
      "\n",
      "Copy number:\n",
      "wilcox. test: greater p= 0.0\n",
      "pooled t test: greater p= 0.0036\n",
      "mk trend: increasing p= 0.0\n",
      "kpss: non-stationary p= 0.01\n",
      "\n",
      "Eff. pop. size:\n",
      "wilcox. test: none p= 0.6758\n",
      "pooled t test: none p= 0.1038\n",
      "mk trend: no trend p= 0.9732\n",
      "kpss: stationary p= 0.1\n",
      "\n",
      "Heteroplasmy:\n",
      "wilcox. test: greater p= 0.0\n",
      "pooled t test: greater p= 0.0153\n",
      "mk trend: increasing p= 0.0\n",
      "kpss: non-stationary p= 0.01\n",
      "\n",
      "           t  ps_mean  ps_sem  eps_mean  eps_sem  het_mean  het_sem  p_het_1  p_het_0  p_pop0  s_wt_mean  s_wt_sem  s_mt_mean  s_mt_sem  a_wt_mean  a_wt_sem  a_mt_mean  a_mt_sem\n",
      "0        0.0   640.00     0.0    400.00      0.0    0.5000   0.0000   0.0000   0.0000     0.0     160.00      0.00     160.00      0.00     160.00      0.00      160.0      0.00\n",
      "1000  4000.0  1320.28    65.4    400.57      1.0    0.7667   0.0546   0.7667   0.2333     0.0      46.73     10.94     612.98     43.66      47.27     11.08      613.3     43.77\n",
      "\n",
      "simulating using tau leaping...\n"
     ]
    },
    {
     "name": "stderr",
     "output_type": "stream",
     "text": [
      " 60%|██████    | 36/60 [00:09<00:04,  5.95it/s]"
     ]
    },
    {
     "ename": "KeyboardInterrupt",
     "evalue": "",
     "output_type": "error",
     "traceback": [
      "\u001b[0;31m---------------------------------------------------------------------------\u001b[0m",
      "\u001b[0;31mIndexError\u001b[0m                                Traceback (most recent call last)",
      "File \u001b[0;32m~/anaconda3/lib/python3.9/multiprocessing/pool.py:853\u001b[0m, in \u001b[0;36mIMapIterator.next\u001b[0;34m(self, timeout)\u001b[0m\n\u001b[1;32m    852\u001b[0m \u001b[38;5;28;01mtry\u001b[39;00m:\n\u001b[0;32m--> 853\u001b[0m     item \u001b[38;5;241m=\u001b[39m \u001b[38;5;28;43mself\u001b[39;49m\u001b[38;5;241;43m.\u001b[39;49m\u001b[43m_items\u001b[49m\u001b[38;5;241;43m.\u001b[39;49m\u001b[43mpopleft\u001b[49m\u001b[43m(\u001b[49m\u001b[43m)\u001b[49m\n\u001b[1;32m    854\u001b[0m \u001b[38;5;28;01mexcept\u001b[39;00m \u001b[38;5;167;01mIndexError\u001b[39;00m:\n",
      "\u001b[0;31mIndexError\u001b[0m: pop from an empty deque",
      "\nDuring handling of the above exception, another exception occurred:\n",
      "\u001b[0;31mKeyboardInterrupt\u001b[0m                         Traceback (most recent call last)",
      "Cell \u001b[0;32mIn[9], line 35\u001b[0m\n\u001b[1;32m     30\u001b[0m \u001b[38;5;28mprint\u001b[39m(df_g\u001b[38;5;241m.\u001b[39miloc[[\u001b[38;5;241m0\u001b[39m, \u001b[38;5;241m-\u001b[39m\u001b[38;5;241m1\u001b[39m]]);\u001b[38;5;28mprint\u001b[39m()\n\u001b[1;32m     31\u001b[0m \u001b[38;5;66;03m#plot_twocomponent_results(df_g)\u001b[39;00m\n\u001b[1;32m     32\u001b[0m \n\u001b[1;32m     33\u001b[0m \n\u001b[1;32m     34\u001b[0m \u001b[38;5;66;03m# run the tau leaping simulation\u001b[39;00m\n\u001b[0;32m---> 35\u001b[0m tauleaping_results \u001b[38;5;241m=\u001b[39m \u001b[43msimulate_tauleaping\u001b[49m\u001b[43m(\u001b[49m\u001b[43mSDE_PARAM\u001b[49m\u001b[43m,\u001b[49m\u001b[43m \u001b[49m\u001b[43mTIME_POINTS\u001b[49m\u001b[43m,\u001b[49m\u001b[43m \u001b[49m\u001b[43mSTART_STATE\u001b[49m\u001b[43m,\u001b[49m\u001b[43m \u001b[49m\u001b[43mreplicates\u001b[49m\u001b[38;5;241;43m=\u001b[39;49m\u001b[43mREP\u001b[49m\u001b[43m,\u001b[49m\u001b[43m \u001b[49m\u001b[43mtimestep\u001b[49m\u001b[38;5;241;43m=\u001b[39;49m\u001b[38;5;241;43m0.005\u001b[39;49m\u001b[43m)\u001b[49m\n\u001b[1;32m     36\u001b[0m df_t, stats_t \u001b[38;5;241m=\u001b[39m two_component_statistics(tauleaping_results, TIME_POINTS, DELTA)\n\u001b[1;32m     38\u001b[0m stats_t[\u001b[38;5;124m'\u001b[39m\u001b[38;5;124msimtype\u001b[39m\u001b[38;5;124m'\u001b[39m] \u001b[38;5;241m=\u001b[39m \u001b[38;5;124m'\u001b[39m\u001b[38;5;124mt\u001b[39m\u001b[38;5;124m'\u001b[39m\n",
      "File \u001b[0;32m~/Projects/2023_Jones_Lab_mtDNA/SSD/SSD_Neuron/simulate.py:166\u001b[0m, in \u001b[0;36msimulate_tauleaping\u001b[0;34m(gill_param, time_points, start_state, replicates, timestep)\u001b[0m\n\u001b[1;32m    163\u001b[0m pool_results \u001b[38;5;241m=\u001b[39m []\n\u001b[1;32m    165\u001b[0m \u001b[38;5;66;03m# execute tasks\u001b[39;00m\n\u001b[0;32m--> 166\u001b[0m \u001b[38;5;28;01mfor\u001b[39;00m result \u001b[38;5;129;01min\u001b[39;00m pool\u001b[38;5;241m.\u001b[39mimap_unordered(tauleaping_wrapper, param):\n\u001b[1;32m    167\u001b[0m     pool_results\u001b[38;5;241m.\u001b[39mappend(result)\n\u001b[1;32m    168\u001b[0m     pbar\u001b[38;5;241m.\u001b[39mupdate(\u001b[38;5;241m1\u001b[39m)\n",
      "File \u001b[0;32m~/anaconda3/lib/python3.9/multiprocessing/pool.py:858\u001b[0m, in \u001b[0;36mIMapIterator.next\u001b[0;34m(self, timeout)\u001b[0m\n\u001b[1;32m    856\u001b[0m     \u001b[38;5;28mself\u001b[39m\u001b[38;5;241m.\u001b[39m_pool \u001b[38;5;241m=\u001b[39m \u001b[38;5;28;01mNone\u001b[39;00m\n\u001b[1;32m    857\u001b[0m     \u001b[38;5;28;01mraise\u001b[39;00m \u001b[38;5;167;01mStopIteration\u001b[39;00m \u001b[38;5;28;01mfrom\u001b[39;00m \u001b[38;5;28;01mNone\u001b[39;00m\n\u001b[0;32m--> 858\u001b[0m \u001b[38;5;28;43mself\u001b[39;49m\u001b[38;5;241;43m.\u001b[39;49m\u001b[43m_cond\u001b[49m\u001b[38;5;241;43m.\u001b[39;49m\u001b[43mwait\u001b[49m\u001b[43m(\u001b[49m\u001b[43mtimeout\u001b[49m\u001b[43m)\u001b[49m\n\u001b[1;32m    859\u001b[0m \u001b[38;5;28;01mtry\u001b[39;00m:\n\u001b[1;32m    860\u001b[0m     item \u001b[38;5;241m=\u001b[39m \u001b[38;5;28mself\u001b[39m\u001b[38;5;241m.\u001b[39m_items\u001b[38;5;241m.\u001b[39mpopleft()\n",
      "File \u001b[0;32m~/anaconda3/lib/python3.9/threading.py:312\u001b[0m, in \u001b[0;36mCondition.wait\u001b[0;34m(self, timeout)\u001b[0m\n\u001b[1;32m    310\u001b[0m \u001b[38;5;28;01mtry\u001b[39;00m:    \u001b[38;5;66;03m# restore state no matter what (e.g., KeyboardInterrupt)\u001b[39;00m\n\u001b[1;32m    311\u001b[0m     \u001b[38;5;28;01mif\u001b[39;00m timeout \u001b[38;5;129;01mis\u001b[39;00m \u001b[38;5;28;01mNone\u001b[39;00m:\n\u001b[0;32m--> 312\u001b[0m         \u001b[43mwaiter\u001b[49m\u001b[38;5;241;43m.\u001b[39;49m\u001b[43macquire\u001b[49m\u001b[43m(\u001b[49m\u001b[43m)\u001b[49m\n\u001b[1;32m    313\u001b[0m         gotit \u001b[38;5;241m=\u001b[39m \u001b[38;5;28;01mTrue\u001b[39;00m\n\u001b[1;32m    314\u001b[0m     \u001b[38;5;28;01melse\u001b[39;00m:\n",
      "\u001b[0;31mKeyboardInterrupt\u001b[0m: "
     ]
    }
   ],
   "source": [
    "TIME_POINTS = np.linspace(0, 4000, 1001)\n",
    "REP = 60\n",
    "\n",
    "\n",
    "stats_df = pd.DataFrame()\n",
    "\n",
    "for c_b in C_B_val:\n",
    "    print(f\"\\n<<<< STARTING SIMULATION WITH C_B = {c_b} >>>>\\n\")\n",
    "    \n",
    "    G.nodes()['S0B']['c_b'] = c_b\n",
    "\n",
    "#     # infer the ode model\n",
    "#     ode_model = ode_from_network(G, prnt=True)\n",
    "\n",
    "#     # run the ode model\n",
    "#     ode_results = simulate_ode(ode_model, TIME_POINTS, START_STATE)\n",
    "#     plot_ode_results(ode_results, TIME_POINTS, DELTA, VARS, NODES, prnt=False)\n",
    "\n",
    "    # infer the parameterse of the sde systems\n",
    "    SDE_PARAM = sde_param_from_network(G, prnt=False)\n",
    "\n",
    "    # run the gillespie simulation\n",
    "    gillespie_results = simulate_gillespie(SDE_PARAM, TIME_POINTS, START_STATE, replicates=REP)\n",
    "    df_g, stats_g = two_component_statistics(gillespie_results, TIME_POINTS, DELTA)\n",
    "    \n",
    "    stats_g['simtype'] = 'g'\n",
    "    stats_g['cb'] = c_b\n",
    "    stats_df = stats_df.append(pd.Series(stats_g), ignore_index=True)\n",
    "    \n",
    "    print(df_g.iloc[[0, -1]]);print()\n",
    "    #plot_twocomponent_results(df_g)\n",
    "    \n",
    "    \n",
    "    # run the tau leaping simulation\n",
    "    tauleaping_results = simulate_tauleaping(SDE_PARAM, TIME_POINTS, START_STATE, replicates=REP, timestep=0.005)\n",
    "    df_t, stats_t = two_component_statistics(tauleaping_results, TIME_POINTS, DELTA)\n",
    "    \n",
    "    stats_t['simtype'] = 't'\n",
    "    stats_t['cb'] = c_b\n",
    "    stats_df = stats_df.append(pd.Series(stats_t), ignore_index=True)\n",
    "    \n",
    "    print(df_t.iloc[[0, -1]]);print()\n",
    "    #plot_twocomponent_results(df_t)\n",
    "    \n",
    "    print(\"\\n ----- \\n\")\n",
    "    \n",
    "print(stats_df)"
   ]
  }
 ],
 "metadata": {
  "kernelspec": {
   "display_name": "Python 3 (ipykernel)",
   "language": "python",
   "name": "python3"
  },
  "language_info": {
   "codemirror_mode": {
    "name": "ipython",
    "version": 3
   },
   "file_extension": ".py",
   "mimetype": "text/x-python",
   "name": "python",
   "nbconvert_exporter": "python",
   "pygments_lexer": "ipython3",
   "version": "3.9.16"
  }
 },
 "nbformat": 4,
 "nbformat_minor": 5
}
