{
 "cells": [
  {
   "cell_type": "code",
   "execution_count": 1,
   "id": "b6f02d27-6ad0-4132-b5d9-5eace60a1fb4",
   "metadata": {},
   "outputs": [],
   "source": [
    "import numpy as np\n",
    "import pandas as pd\n",
    "import networkx as nx\n",
    "import matplotlib.pyplot as plt\n",
    "import pydot\n",
    "from networkx.drawing.nx_pydot import graphviz_layout\n",
    "from networkx.drawing.nx_agraph import to_agraph \n",
    "from copy import deepcopy\n",
    "import pickle\n",
    "from plot_module import plot_neuron_graph\n",
    "\n",
    "from graph_from_swc import edge_length, edge_volume, volume_by_type, nxgraph_from_swc_df, remove_transition_nodes"
   ]
  },
  {
   "cell_type": "code",
   "execution_count": 2,
   "id": "0ed40a49-f927-4f02-976e-9e1e4732af44",
   "metadata": {},
   "outputs": [],
   "source": [
    "nodetype_dict = {1:'soma', 2:'axon', 3:'dendrite', 4:'dendrite'}\n",
    "color_dict = {1:'red', 2:'blue', 3:'limegreen', 4:'limegreen'}"
   ]
  },
  {
   "cell_type": "code",
   "execution_count": 31,
   "id": "71cd0bb8-291e-42a0-a61f-d62fb3b1d2aa",
   "metadata": {},
   "outputs": [
    {
     "data": {
      "text/html": [
       "<div>\n",
       "<style scoped>\n",
       "    .dataframe tbody tr th:only-of-type {\n",
       "        vertical-align: middle;\n",
       "    }\n",
       "\n",
       "    .dataframe tbody tr th {\n",
       "        vertical-align: top;\n",
       "    }\n",
       "\n",
       "    .dataframe thead th {\n",
       "        text-align: right;\n",
       "    }\n",
       "</style>\n",
       "<table border=\"1\" class=\"dataframe\">\n",
       "  <thead>\n",
       "    <tr style=\"text-align: right;\">\n",
       "      <th></th>\n",
       "      <th>comp_id</th>\n",
       "      <th>type</th>\n",
       "      <th>x</th>\n",
       "      <th>y</th>\n",
       "      <th>z</th>\n",
       "      <th>radius</th>\n",
       "      <th>parent_id</th>\n",
       "    </tr>\n",
       "  </thead>\n",
       "  <tbody>\n",
       "    <tr>\n",
       "      <th>0</th>\n",
       "      <td>1</td>\n",
       "      <td>1</td>\n",
       "      <td>0.00</td>\n",
       "      <td>0.00</td>\n",
       "      <td>0.00</td>\n",
       "      <td>4.049</td>\n",
       "      <td>-1</td>\n",
       "    </tr>\n",
       "    <tr>\n",
       "      <th>1</th>\n",
       "      <td>4</td>\n",
       "      <td>2</td>\n",
       "      <td>-2.64</td>\n",
       "      <td>-0.14</td>\n",
       "      <td>-0.24</td>\n",
       "      <td>0.195</td>\n",
       "      <td>1</td>\n",
       "    </tr>\n",
       "    <tr>\n",
       "      <th>2</th>\n",
       "      <td>5</td>\n",
       "      <td>2</td>\n",
       "      <td>-4.53</td>\n",
       "      <td>-0.86</td>\n",
       "      <td>-0.06</td>\n",
       "      <td>0.195</td>\n",
       "      <td>4</td>\n",
       "    </tr>\n",
       "    <tr>\n",
       "      <th>3</th>\n",
       "      <td>6</td>\n",
       "      <td>2</td>\n",
       "      <td>-5.46</td>\n",
       "      <td>-1.92</td>\n",
       "      <td>-0.92</td>\n",
       "      <td>0.195</td>\n",
       "      <td>5</td>\n",
       "    </tr>\n",
       "    <tr>\n",
       "      <th>4</th>\n",
       "      <td>7</td>\n",
       "      <td>2</td>\n",
       "      <td>-7.01</td>\n",
       "      <td>-3.53</td>\n",
       "      <td>-1.95</td>\n",
       "      <td>0.145</td>\n",
       "      <td>6</td>\n",
       "    </tr>\n",
       "    <tr>\n",
       "      <th>...</th>\n",
       "      <td>...</td>\n",
       "      <td>...</td>\n",
       "      <td>...</td>\n",
       "      <td>...</td>\n",
       "      <td>...</td>\n",
       "      <td>...</td>\n",
       "      <td>...</td>\n",
       "    </tr>\n",
       "    <tr>\n",
       "      <th>312</th>\n",
       "      <td>315</td>\n",
       "      <td>3</td>\n",
       "      <td>9.16</td>\n",
       "      <td>54.53</td>\n",
       "      <td>0.50</td>\n",
       "      <td>0.145</td>\n",
       "      <td>314</td>\n",
       "    </tr>\n",
       "    <tr>\n",
       "      <th>313</th>\n",
       "      <td>316</td>\n",
       "      <td>3</td>\n",
       "      <td>9.95</td>\n",
       "      <td>55.45</td>\n",
       "      <td>0.19</td>\n",
       "      <td>0.145</td>\n",
       "      <td>315</td>\n",
       "    </tr>\n",
       "    <tr>\n",
       "      <th>314</th>\n",
       "      <td>317</td>\n",
       "      <td>3</td>\n",
       "      <td>11.30</td>\n",
       "      <td>55.90</td>\n",
       "      <td>0.21</td>\n",
       "      <td>0.145</td>\n",
       "      <td>316</td>\n",
       "    </tr>\n",
       "    <tr>\n",
       "      <th>315</th>\n",
       "      <td>318</td>\n",
       "      <td>3</td>\n",
       "      <td>12.18</td>\n",
       "      <td>57.51</td>\n",
       "      <td>0.44</td>\n",
       "      <td>0.145</td>\n",
       "      <td>317</td>\n",
       "    </tr>\n",
       "    <tr>\n",
       "      <th>316</th>\n",
       "      <td>319</td>\n",
       "      <td>3</td>\n",
       "      <td>12.56</td>\n",
       "      <td>58.39</td>\n",
       "      <td>0.52</td>\n",
       "      <td>0.145</td>\n",
       "      <td>318</td>\n",
       "    </tr>\n",
       "  </tbody>\n",
       "</table>\n",
       "<p>317 rows × 7 columns</p>\n",
       "</div>"
      ],
      "text/plain": [
       "     comp_id  type      x      y     z  radius  parent_id\n",
       "0          1     1   0.00   0.00  0.00   4.049         -1\n",
       "1          4     2  -2.64  -0.14 -0.24   0.195          1\n",
       "2          5     2  -4.53  -0.86 -0.06   0.195          4\n",
       "3          6     2  -5.46  -1.92 -0.92   0.195          5\n",
       "4          7     2  -7.01  -3.53 -1.95   0.145          6\n",
       "..       ...   ...    ...    ...   ...     ...        ...\n",
       "312      315     3   9.16  54.53  0.50   0.145        314\n",
       "313      316     3   9.95  55.45  0.19   0.145        315\n",
       "314      317     3  11.30  55.90  0.21   0.145        316\n",
       "315      318     3  12.18  57.51  0.44   0.145        317\n",
       "316      319     3  12.56  58.39  0.52   0.145        318\n",
       "\n",
       "[317 rows x 7 columns]"
      ]
     },
     "execution_count": 31,
     "metadata": {},
     "output_type": "execute_result"
    }
   ],
   "source": [
    "name = 'm_hippocampus_NMO_97827'\n",
    "file = f'neuron_shape_data/{name}.txt'\n",
    "full_swc_df = pd.read_csv(file, sep = ' ', header=None, skipinitialspace = True)\n",
    "full_swc_df.columns = ['comp_id','type','x','y','z','radius','parent_id']\n",
    "full_swc_df"
   ]
  },
  {
   "cell_type": "code",
   "execution_count": 4,
   "id": "4e619a9d-479b-4a48-b68b-4ae5f8099984",
   "metadata": {},
   "outputs": [],
   "source": [
    "# # distance between two points\n",
    "# def edge_length(input_df, node_id, parent_id):\n",
    "#     node_row = input_df.loc[input_df['comp_id'] == node_id]\n",
    "#     parent_row = input_df.loc[input_df['comp_id'] == parent_id]\n",
    "    \n",
    "#     node_xyz = np.array([node_row['x'], node_row['y'], node_row['z']]).flatten()\n",
    "#     parent_xyz = np.array([parent_row['x'], parent_row['y'], parent_row['z']]).flatten()\n",
    "    \n",
    "#     # 3d euclidean distance\n",
    "#     return np.round(np.linalg.norm(node_xyz-parent_xyz), 4)\n",
    "\n",
    "# # approximate the volume of an edge using a cylinder (produces identical results to neuromorpho)\n",
    "# def edge_volume(input_df, node_id, parent_id):\n",
    "#     node_row = input_df.loc[input_df['comp_id'] == node_id]\n",
    "#     parent_row = input_df.loc[input_df['comp_id'] == parent_id]\n",
    "    \n",
    "#     node_xyz = np.array([node_row['x'], node_row['y'], node_row['z']]).flatten()\n",
    "#     parent_xyz = np.array([parent_row['x'], parent_row['y'], parent_row['z']]).flatten()\n",
    "    \n",
    "#     # volume of cylinder\n",
    "#     h = np.linalg.norm(node_xyz-parent_xyz)\n",
    "#     r = float(node_row['radius'])\n",
    "#     return np.round(np.pi*r*r*h, 4)\n",
    "    \n",
    "# def volume_by_type(G):\n",
    "#     edge_volumes_and_types = ([(e[2]['volume'], int(e[2]['edgetype'])) for e in G.edges(data=True)])\n",
    "    \n",
    "#     soma_volume = (4/3)*np.power(list(G.nodes(data = True))[0][1]['radius'], 3)*np.pi\n",
    "#     axon_volume = np.sum([element[0] for element in edge_volumes_and_types if element[1] == 2])\n",
    "#     dendrite_volume = np.sum([element[0] for element in edge_volumes_and_types if element[1] != 2])\n",
    "    \n",
    "#     absolute_volumes = np.array([soma_volume, axon_volume, dendrite_volume]).round(2)\n",
    "#     relative_volumes = np.round(absolute_volumes/np.sum(absolute_volumes), 2)\n",
    "\n",
    "#     print('absolute volumes (s, a, d)', absolute_volumes)\n",
    "#     print('relative volumes (s, a, d)', relative_volumes)"
   ]
  },
  {
   "cell_type": "code",
   "execution_count": 5,
   "id": "6e6e6234-3292-4c27-85cd-ab2f1583dfd6",
   "metadata": {
    "tags": []
   },
   "outputs": [],
   "source": [
    "# def nxgraph_from_swc_df(swc_df):\n",
    "#     G = nx.Graph()\n",
    "    \n",
    "#     # add nodes\n",
    "#     for index, row in swc_df.iterrows():\n",
    "#         G.add_node(\n",
    "#             str(int(row['comp_id'])), \n",
    "#             nodetype = int(row['type']), \n",
    "#             radius = float(row['radius']),\n",
    "#             xy = (float(row['x']), float(row['y']))\n",
    "#         )\n",
    "    \n",
    "#     # add edges\n",
    "#     for index, row in swc_df.iterrows():\n",
    "#         if index > 0:\n",
    "#             G.add_edge(\n",
    "#                 str(int(row['comp_id'])), str(int(row['parent_id'])), \n",
    "#                 volume = edge_volume(swc_df, int(row['comp_id']), int(row['parent_id'])),\n",
    "#                 len = edge_length(swc_df, int(row['comp_id']), int(row['parent_id'])),\n",
    "#                 edgetype = int(row['type'])      \n",
    "#             )\n",
    "    \n",
    "#     return G"
   ]
  },
  {
   "cell_type": "code",
   "execution_count": 32,
   "id": "614acc48-6ddc-4b0a-8e1f-3807177c9160",
   "metadata": {},
   "outputs": [
    {
     "name": "stdout",
     "output_type": "stream",
     "text": [
      "absolute volumes (s, a, d) [278.06   8.73  27.24]\n",
      "relative volumes (s, a, d) [0.89 0.03 0.09]\n"
     ]
    }
   ],
   "source": [
    "neuron_graph_full = nxgraph_from_swc_df(full_swc_df)\n",
    "volume_by_type(neuron_graph_full)"
   ]
  },
  {
   "cell_type": "code",
   "execution_count": 33,
   "id": "5763256c-d28c-4c2f-9744-354269f84ac0",
   "metadata": {
    "tags": []
   },
   "outputs": [
    {
     "data": {
      "image/png": "[encoded data removed]",
      "text/plain": [
       "<Figure size 1000x1000 with 1 Axes>"
      ]
     },
     "metadata": {},
     "output_type": "display_data"
    }
   ],
   "source": [
    "plot_neuron_graph(neuron_graph_full)"
   ]
  },
  {
   "cell_type": "code",
   "execution_count": 8,
   "id": "ddd81bdd-a10e-4a28-9ec4-972f21ff47b7",
   "metadata": {},
   "outputs": [],
   "source": [
    "# def remove_transition_nodes(G, swc_df):\n",
    "#     out_df = deepcopy(swc_df)\n",
    "\n",
    "#     # find leaf, root, and branch nodes\n",
    "#     all_nodes = list(G.nodes())\n",
    "#     leaf_nodes = [x for x in G.nodes() if G.degree(x)==1]\n",
    "#     root_node = [all_nodes[0]]; leaf_nodes = [node for node in leaf_nodes if node not in root_node]\n",
    "#     branch_nodes = [x for x in G.nodes() if len(nx.descendants_at_distance(G, x, 1)) > 2]\n",
    "    \n",
    "#     # find remaining nodes, which are transitions.\n",
    "#     transition_nodes = list(set(G.nodes()) - set(leaf_nodes) - set(root_node) - set(branch_nodes))\n",
    "    \n",
    "#     # go through the graph, removing the transition nodes\n",
    "#     for tran_node_id in transition_nodes:\n",
    "        \n",
    "#         tran_node_row = out_df.loc[out_df['comp_id'] == int(tran_node_id)]\n",
    "#         prnt_node_id = int(tran_node_row['parent_id'])\n",
    "        \n",
    "#         prnt_node_row = out_df.loc[out_df['comp_id'] == prnt_node_id]\n",
    "#         chld_node_row = out_df.loc[out_df['parent_id'] == int(tran_node_id)]\n",
    "\n",
    "#         # rewrite parent of child node to parent of transition node\n",
    "#         out_df.loc[chld_node_row.index, 'parent_id'] = prnt_node_id\n",
    "\n",
    "#         # delete the row corresponding to the node\n",
    "#         out_df = out_df.drop(tran_node_row.index)\n",
    "            \n",
    "    \n",
    "#     return out_df"
   ]
  },
  {
   "cell_type": "code",
   "execution_count": 34,
   "id": "e1f6f348-f32c-45c9-811f-7572a9eb93ab",
   "metadata": {
    "tags": []
   },
   "outputs": [
    {
     "data": {
      "text/html": [
       "<div>\n",
       "<style scoped>\n",
       "    .dataframe tbody tr th:only-of-type {\n",
       "        vertical-align: middle;\n",
       "    }\n",
       "\n",
       "    .dataframe tbody tr th {\n",
       "        vertical-align: top;\n",
       "    }\n",
       "\n",
       "    .dataframe thead th {\n",
       "        text-align: right;\n",
       "    }\n",
       "</style>\n",
       "<table border=\"1\" class=\"dataframe\">\n",
       "  <thead>\n",
       "    <tr style=\"text-align: right;\">\n",
       "      <th></th>\n",
       "      <th>comp_id</th>\n",
       "      <th>type</th>\n",
       "      <th>x</th>\n",
       "      <th>y</th>\n",
       "      <th>z</th>\n",
       "      <th>radius</th>\n",
       "      <th>parent_id</th>\n",
       "    </tr>\n",
       "  </thead>\n",
       "  <tbody>\n",
       "    <tr>\n",
       "      <th>0</th>\n",
       "      <td>1</td>\n",
       "      <td>1</td>\n",
       "      <td>0.00</td>\n",
       "      <td>0.00</td>\n",
       "      <td>0.00</td>\n",
       "      <td>4.049</td>\n",
       "      <td>-1</td>\n",
       "    </tr>\n",
       "    <tr>\n",
       "      <th>113</th>\n",
       "      <td>116</td>\n",
       "      <td>2</td>\n",
       "      <td>-243.93</td>\n",
       "      <td>61.60</td>\n",
       "      <td>54.64</td>\n",
       "      <td>0.050</td>\n",
       "      <td>1</td>\n",
       "    </tr>\n",
       "    <tr>\n",
       "      <th>162</th>\n",
       "      <td>165</td>\n",
       "      <td>2</td>\n",
       "      <td>-266.81</td>\n",
       "      <td>38.83</td>\n",
       "      <td>3.28</td>\n",
       "      <td>0.050</td>\n",
       "      <td>116</td>\n",
       "    </tr>\n",
       "    <tr>\n",
       "      <th>171</th>\n",
       "      <td>174</td>\n",
       "      <td>2</td>\n",
       "      <td>-256.33</td>\n",
       "      <td>34.58</td>\n",
       "      <td>-5.85</td>\n",
       "      <td>0.050</td>\n",
       "      <td>165</td>\n",
       "    </tr>\n",
       "    <tr>\n",
       "      <th>178</th>\n",
       "      <td>181</td>\n",
       "      <td>2</td>\n",
       "      <td>-284.91</td>\n",
       "      <td>59.96</td>\n",
       "      <td>8.87</td>\n",
       "      <td>0.050</td>\n",
       "      <td>165</td>\n",
       "    </tr>\n",
       "    <tr>\n",
       "      <th>184</th>\n",
       "      <td>187</td>\n",
       "      <td>2</td>\n",
       "      <td>-240.20</td>\n",
       "      <td>63.19</td>\n",
       "      <td>65.95</td>\n",
       "      <td>0.050</td>\n",
       "      <td>116</td>\n",
       "    </tr>\n",
       "    <tr>\n",
       "      <th>205</th>\n",
       "      <td>208</td>\n",
       "      <td>2</td>\n",
       "      <td>-197.44</td>\n",
       "      <td>66.71</td>\n",
       "      <td>83.56</td>\n",
       "      <td>0.050</td>\n",
       "      <td>187</td>\n",
       "    </tr>\n",
       "    <tr>\n",
       "      <th>218</th>\n",
       "      <td>221</td>\n",
       "      <td>2</td>\n",
       "      <td>-245.03</td>\n",
       "      <td>52.83</td>\n",
       "      <td>67.03</td>\n",
       "      <td>0.050</td>\n",
       "      <td>187</td>\n",
       "    </tr>\n",
       "    <tr>\n",
       "      <th>262</th>\n",
       "      <td>265</td>\n",
       "      <td>2</td>\n",
       "      <td>-366.01</td>\n",
       "      <td>42.47</td>\n",
       "      <td>76.00</td>\n",
       "      <td>0.050</td>\n",
       "      <td>221</td>\n",
       "    </tr>\n",
       "    <tr>\n",
       "      <th>263</th>\n",
       "      <td>266</td>\n",
       "      <td>2</td>\n",
       "      <td>-244.23</td>\n",
       "      <td>50.83</td>\n",
       "      <td>66.43</td>\n",
       "      <td>0.050</td>\n",
       "      <td>221</td>\n",
       "    </tr>\n",
       "    <tr>\n",
       "      <th>316</th>\n",
       "      <td>319</td>\n",
       "      <td>3</td>\n",
       "      <td>12.56</td>\n",
       "      <td>58.39</td>\n",
       "      <td>0.52</td>\n",
       "      <td>0.145</td>\n",
       "      <td>1</td>\n",
       "    </tr>\n",
       "  </tbody>\n",
       "</table>\n",
       "</div>"
      ],
      "text/plain": [
       "     comp_id  type       x      y      z  radius  parent_id\n",
       "0          1     1    0.00   0.00   0.00   4.049         -1\n",
       "113      116     2 -243.93  61.60  54.64   0.050          1\n",
       "162      165     2 -266.81  38.83   3.28   0.050        116\n",
       "171      174     2 -256.33  34.58  -5.85   0.050        165\n",
       "178      181     2 -284.91  59.96   8.87   0.050        165\n",
       "184      187     2 -240.20  63.19  65.95   0.050        116\n",
       "205      208     2 -197.44  66.71  83.56   0.050        187\n",
       "218      221     2 -245.03  52.83  67.03   0.050        187\n",
       "262      265     2 -366.01  42.47  76.00   0.050        221\n",
       "263      266     2 -244.23  50.83  66.43   0.050        221\n",
       "316      319     3   12.56  58.39   0.52   0.145          1"
      ]
     },
     "execution_count": 34,
     "metadata": {},
     "output_type": "execute_result"
    }
   ],
   "source": [
    "filtered_swc_df = remove_transition_nodes(neuron_graph_full, full_swc_df)\n",
    "filtered_swc_df"
   ]
  },
  {
   "cell_type": "code",
   "execution_count": 35,
   "id": "17962f4d-8c81-4b8a-9afa-09905cddacef",
   "metadata": {
    "tags": []
   },
   "outputs": [
    {
     "name": "stdout",
     "output_type": "stream",
     "text": [
      "absolute volumes (s, a, d) [278.06   4.36   3.95]\n",
      "relative volumes (s, a, d) [0.97 0.02 0.01]\n"
     ]
    }
   ],
   "source": [
    "neuron_graph_filtered = nxgraph_from_swc_df(filtered_swc_df)\n",
    "volume_by_type(neuron_graph_filtered)"
   ]
  },
  {
   "cell_type": "code",
   "execution_count": 36,
   "id": "24583a05-2b96-4343-b844-7ca4c0667dd7",
   "metadata": {},
   "outputs": [
    {
     "data": {
      "image/png": "[encoded data removed]",
      "text/plain": [
       "<Figure size 1000x1000 with 1 Axes>"
      ]
     },
     "metadata": {},
     "output_type": "display_data"
    },
    {
     "data": {
      "image/png": "[encoded data removed]",
      "text/plain": [
       "<Figure size 1000x1000 with 1 Axes>"
      ]
     },
     "metadata": {},
     "output_type": "display_data"
    }
   ],
   "source": [
    "plot_neuron_graph(neuron_graph_filtered, realxy=True)"
   ]
  },
  {
   "cell_type": "code",
   "execution_count": 37,
   "id": "df92c8a6-91ba-4dbe-871b-9f3b4feba1d3",
   "metadata": {},
   "outputs": [
    {
     "name": "stdout",
     "output_type": "stream",
     "text": [
      "4.3583\n",
      "3.9451\n"
     ]
    }
   ],
   "source": [
    "G = neuron_graph_filtered\n",
    "central_node = '1'\n",
    "\n",
    "def get_branches(graph, root):\n",
    "    # List to store branches\n",
    "    branches = []\n",
    "    # Depth-first search starting from the root\n",
    "    for edge in nx.dfs_edges(graph, source=root):\n",
    "        if not branches or edge[0] == root:\n",
    "            # Start a new branch\n",
    "            branches.append([edge])\n",
    "        else:\n",
    "            # Continue the current branch\n",
    "            branches[-1].append(edge)\n",
    "    return branches\n",
    "\n",
    "edges_in_each_branch = get_branches(G, central_node)\n",
    "\n",
    "for branch in edges_in_each_branch:\n",
    "    print(np.sum([data['volume'] for u, v, data in G.edges(data = True) if (u,v) in branch]))"
   ]
  },
  {
   "cell_type": "code",
   "execution_count": 38,
   "id": "cc858a52-b8e1-437b-9bd6-20e8b5e7adad",
   "metadata": {
    "tags": []
   },
   "outputs": [
    {
     "data": {
      "text/plain": [
       "(0.0, 0.14975)"
      ]
     },
     "execution_count": 38,
     "metadata": {},
     "output_type": "execute_result"
    },
    {
     "data": {
      "image/png": "[encoded data removed]",
      "text/plain": [
       "<Figure size 640x480 with 1 Axes>"
      ]
     },
     "metadata": {},
     "output_type": "display_data"
    }
   ],
   "source": [
    "distance_to_soma = [nx.dijkstra_path_length(G, source='1', target=node, weight='len') for node in G.nodes if node != '1']\n",
    "diameter_at_node = [data['radius'] for node, data in G.nodes(data = True) if node != '1']\n",
    "node_type = [data['nodetype'] for node, data in G.nodes(data = True) if node != '1']\n",
    "plt.scatter(distance_to_soma, diameter_at_node, c = node_type)\n",
    "plt.ylim(0,None)"
   ]
  },
  {
   "cell_type": "code",
   "execution_count": 39,
   "id": "18c3eddb-8bfa-46dc-8af0-d0c83a321c37",
   "metadata": {
    "tags": []
   },
   "outputs": [
    {
     "data": {
      "text/plain": [
       "['1-116:257.4528:2.022',\n",
       " '116-165:60.6615:0.4764',\n",
       " '116-187:12.0149:0.0944',\n",
       " '165-174:14.5344:0.1142',\n",
       " '165-181:28.3784:0.2229',\n",
       " '187-208:46.378:0.3643',\n",
       " '187-221:11.4815:0.0902',\n",
       " '221-265:121.7536:0.9563',\n",
       " '221-266:2.2361:0.0176']"
      ]
     },
     "execution_count": 39,
     "metadata": {},
     "output_type": "execute_result"
    }
   ],
   "source": [
    "[f\"{u}-{v}:{data['len']}:{data['volume']}\" for u, v, data in G.edges(data = True) if data['edgetype'] == 2]"
   ]
  },
  {
   "cell_type": "code",
   "execution_count": 14,
   "id": "61a770c0-2fcf-446a-8818-958c845b427c",
   "metadata": {
    "tags": []
   },
   "outputs": [
    {
     "data": {
      "text/plain": [
       "[0.035,\n",
       " 0.035,\n",
       " 0.145,\n",
       " 0.07,\n",
       " 0.07,\n",
       " 0.035,\n",
       " 0.035,\n",
       " 0.18,\n",
       " 0.18,\n",
       " 0.18,\n",
       " 0.07,\n",
       " 0.145,\n",
       " 0.145,\n",
       " 0.145,\n",
       " 0.145,\n",
       " 0.145,\n",
       " 0.145,\n",
       " 0.145,\n",
       " 0.145,\n",
       " 0.145,\n",
       " 0.145,\n",
       " 0.11,\n",
       " 0.11,\n",
       " 0.07,\n",
       " 0.07,\n",
       " 0.11,\n",
       " 0.11,\n",
       " 0.11,\n",
       " 0.11,\n",
       " 0.11,\n",
       " 0.11,\n",
       " 0.11,\n",
       " 0.11,\n",
       " 0.11,\n",
       " 0.11,\n",
       " 0.11,\n",
       " 0.11,\n",
       " 0.11,\n",
       " 0.11,\n",
       " 0.11,\n",
       " 0.11,\n",
       " 0.11]"
      ]
     },
     "execution_count": 14,
     "metadata": {},
     "output_type": "execute_result"
    }
   ],
   "source": [
    "diameter_at_node"
   ]
  },
  {
   "cell_type": "code",
   "execution_count": 40,
   "id": "ed901231-2c29-4eb2-b57e-38b6224068f7",
   "metadata": {
    "tags": []
   },
   "outputs": [],
   "source": [
    "# with open(f'neuron_shape_data/{name}.pkl', 'wb') as f:\n",
    "#     pickle.dump(neuron_graph_filtered, f)"
   ]
  }
 ],
 "metadata": {
  "kernelspec": {
   "display_name": "Python 3 (ipykernel)",
   "language": "python",
   "name": "python3"
  },
  "language_info": {
   "codemirror_mode": {
    "name": "ipython",
    "version": 3
   },
   "file_extension": ".py",
   "mimetype": "text/x-python",
   "name": "python",
   "nbconvert_exporter": "python",
   "pygments_lexer": "ipython3",
   "version": "3.9.16"
  }
 },
 "nbformat": 4,
 "nbformat_minor": 5
}
