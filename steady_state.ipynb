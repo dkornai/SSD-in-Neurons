{
 "cells": [
  {
   "cell_type": "code",
   "execution_count": 1,
   "id": "47bd1f91-945c-4515-8790-6ba8c8fd1458",
   "metadata": {},
   "outputs": [],
   "source": [
    "import itertools\n",
    "\n",
    "import networkx as nx\n",
    "import numpy as np; np.set_printoptions(suppress=True)\n",
    "import pandas as pd\n",
    "import matplotlib.pyplot as plt\n",
    "import scipy.integrate as integrate\n",
    "\n",
    "from simulate import ODE_simulate, GILL_simulate\n",
    "from plot_module import plot_ODE, plot_gillespie, plot_network\n",
    "from sim_param_from_network import names_from_network, gillespie_reaction_dict_from_network, dataframes_from_network, ODE_from_network\n",
    "from network_generate import linear_network\n",
    "\n",
    "import ipywidgets as widgets\n",
    "from ipywidgets import interact, interact_manual\n",
    "from sklearn.metrics.pairwise import euclidean_distances"
   ]
  },
  {
   "cell_type": "code",
   "execution_count": 2,
   "id": "a0611e38-789c-4395-93e9-09a7f2d4b77d",
   "metadata": {},
   "outputs": [],
   "source": [
    "MAX_T = 100000\n",
    "TIME_POINTS = np.linspace(0, MAX_T, 1001)"
   ]
  },
  {
   "cell_type": "code",
   "execution_count": 16,
   "id": "7ab8dc75-4cff-4894-83b5-d53dc715b2fb",
   "metadata": {},
   "outputs": [
    {
     "data": {
      "application/vnd.jupyter.widget-view+json": {
       "model_id": "12102e7789544feaa2c8e6ec7feffe66",
       "version_major": 2,
       "version_minor": 0
      },
      "text/plain": [
       "interactive(children=(FloatSlider(value=2.5, description='C_B', max=5.0, step=0.01), FloatSlider(value=1.0, de…"
      ]
     },
     "metadata": {},
     "output_type": "display_data"
    }
   ],
   "source": [
    "@interact\n",
    "def es(\n",
    "    C_B = (0.00, 5, 0.01),\n",
    "    BR_AXON = (0.00, 2, 0.005),\n",
    "    DR = (0.025, 2.5, 0.01),\n",
    "    GAMMA_ANT = (0, 100, 1),\n",
    "    GAMMA_RET = (0, 100, 1),\n",
    "    NSS = (50, 500, 50),\n",
    "    ):\n",
    "\n",
    "    bio_param = {'c_b':C_B, 'mu_a':BR_AXON, 'nss':NSS, 'delta':0, 'mu':DR, 'gamma_ant':GAMMA_ANT, 'gamma_ret':GAMMA_RET}\n",
    "    G, VARS, COMP, START_STATE = linear_network(6, bio_param, start_pop = [100, 0])\n",
    "    n_vars = len(VARS)\n",
    "    \n",
    "    ODE_model = ODE_from_network(G, prnt = False)\n",
    "    ode_results = ODE_simulate(ODE_model, TIME_POINTS, START_STATE)\n",
    "    print(np.round(ode_results[np.arange(0, n_vars, 2),-1],2))"
   ]
  },
  {
   "cell_type": "code",
   "execution_count": 4,
   "id": "f6943ab2-f0e3-4019-9fed-eb1f6f326807",
   "metadata": {},
   "outputs": [],
   "source": [
    "ideal = np.array([250, 75, 75, 75, 75.0])"
   ]
  },
  {
   "cell_type": "code",
   "execution_count": 5,
   "id": "a4e6981f-88da-4001-a88b-409b974fe83b",
   "metadata": {},
   "outputs": [],
   "source": [
    "def end_state(time_points, c_b, br_axon, dr, gamma_ant, gamma_ret):\n",
    "    \n",
    "    bio_param = {'c_b':c_b, 'mu_a':br_axon, 'nss':250, 'delta':0, 'mu':dr, 'gamma_ant':gamma_ant, 'gamma_ret':gamma_ret}\n",
    "    G, VARS, COMP, START_STATE = linear_network(5, bio_param, start_pop = [100, 0])\n",
    "    n_vars = len(VARS)\n",
    "    \n",
    "    ODE_model = ODE_from_network(G, prnt = False)\n",
    "    ode_results = ODE_simulate(ODE_model, time_points, START_STATE)\n",
    "    \n",
    "    return np.round(ode_results[np.arange(0, n_vars, 2),-1],2)"
   ]
  },
  {
   "cell_type": "code",
   "execution_count": 47,
   "id": "9b13fef3-bc92-4d84-a37e-efaf6c9e54db",
   "metadata": {},
   "outputs": [],
   "source": [
    "def new_bounds(cmin, cmax, optimal):\n",
    "    newrange = (cmax-cmin)/3\n",
    "    newmin = optimal-newrange if optimal-newrange > cmin else cmin\n",
    "    newmax = optimal+newrange if optimal+newrange < cmax else cmax\n",
    "    newmin = np.round(newmin, 2)\n",
    "    newmax = np.round(newmax, 2)\n",
    "    return newmin, newmax"
   ]
  },
  {
   "cell_type": "code",
   "execution_count": 35,
   "id": "3615afe0-3af8-4d65-b4ff-3e22ce9baa97",
   "metadata": {},
   "outputs": [],
   "source": [
    "def optimize(par_comb):\n",
    "    lowest_dist = 100000000000000000\n",
    "    lowest_dist_param = []\n",
    "\n",
    "    for i, param in enumerate(par_comb):\n",
    "        param = np.round(param, 2)\n",
    "        es = end_state(TIME_POINTS, param[0], param[1], param[2], param[3], param[4])\n",
    "        dist = euclidean_distances(es.reshape(1,-1), ideal.reshape(1,-1))\n",
    "\n",
    "        print(i, end = '\\r')\n",
    "\n",
    "        if dist < lowest_dist:\n",
    "            lowest_dist = dist\n",
    "            lowest_dist_param = param\n",
    "            print('          current best param:', lowest_dist_param, 'final state:', es, '                 ',end = '\\r')\n",
    "        \n",
    "    return lowest_dist_param"
   ]
  },
  {
   "cell_type": "code",
   "execution_count": 50,
   "id": "26caec4b-e387-47ea-9a4f-f8e96a5f5f06",
   "metadata": {},
   "outputs": [
    {
     "name": "stdout",
     "output_type": "stream",
     "text": [
      "\n",
      "Optimization iteration 1\n",
      "1151      current best param: [1.67 0.01 2.5  8.8  8.8 ] final state: [246.4  147.84  91.27  60.63  47.22]                       \n",
      "new parameter bounds:\n",
      "cb:       \t 0.01 \t 3.33\n",
      "br_axon:  \t 0.01 \t 0.34\n",
      "dr:       \t 1.67 \t 2.5\n",
      "gamma_ant:\t 1 \t 21.8\n",
      "gamma_ret:\t 1 \t 21.8\n",
      "\n",
      "Optimization iteration 2\n",
      "1151      current best param: [1.12 0.01 1.95 5.16 5.16] final state: [246.2  135.74  76.57  46.35  33.64]                       \n",
      "new parameter bounds:\n",
      "cb:       \t 0.01 \t 2.23\n",
      "br_axon:  \t 0.01 \t 0.12\n",
      "dr:       \t 1.67 \t 2.23\n",
      "gamma_ant:\t 1 \t 12.09\n",
      "gamma_ret:\t 1 \t 12.09\n",
      "\n",
      "Optimization iteration 3\n",
      "1151      current best param: [0.75 0.01 2.04 3.22 1.  ] final state: [243.75 137.96  78.75  48.76  51.65]                  \n",
      "new parameter bounds:\n",
      "cb:       \t 0.01 \t 1.49\n",
      "br_axon:  \t 0.01 \t 0.05\n",
      "dr:       \t 1.85 \t 2.23\n",
      "gamma_ant:\t 1 \t 6.92\n",
      "gamma_ret:\t 1 \t 4.7\n",
      "\n",
      "Optimization iteration 4\n",
      "1151      current best param: [0.5  0.01 2.1  3.37 1.  ] final state: [240.22 137.37  79.22  49.59  53.91]                  \n",
      "new parameter bounds:\n",
      "cb:       \t 0.01 \t 0.99\n",
      "br_axon:  \t 0.01 \t 0.02\n",
      "dr:       \t 1.97 \t 2.23\n",
      "gamma_ant:\t 1.4 \t 5.34\n",
      "gamma_ret:\t 1 \t 2.23\n",
      "\n",
      "Optimization iteration 5\n",
      "1151      current best param: [0.34 0.01 2.23 3.76 1.  ] final state: [234.14 137.61  81.55  52.63  61.27]                  \n",
      "new parameter bounds:\n",
      "cb:       \t 0.01 \t 0.67\n",
      "br_axon:  \t 0.01 \t 0.01\n",
      "dr:       \t 2.14 \t 2.23\n",
      "gamma_ant:\t 2.45 \t 5.07\n",
      "gamma_ret:\t 1 \t 1.41\n",
      "\n",
      "Most optimal parameters\n",
      "[0.34 0.01 2.23 3.76 1.  ]\n"
     ]
    }
   ],
   "source": [
    "min_cb = 0.01; max_cb = 5\n",
    "min_br_axon = 0.01; max_br_axon = 1\n",
    "min_dr = 0.025; max_dr = 2.5\n",
    "min_gamma_ant = 1; max_gamma_ant = 40\n",
    "min_gamma_ret = 1; max_gamma_ret = 40\n",
    "\n",
    "steps = 4\n",
    "\n",
    "for i in range(5):\n",
    "    print(\"\\nOptimization iteration\",i+1)\n",
    "    # generate parameter ranges to search\n",
    "    range_cb = np.linspace(min_cb, max_cb, num=steps).tolist()\n",
    "    range_br_axon = np.linspace(min_br_axon, max_br_axon, num=steps-2).tolist()\n",
    "    range_dr = np.linspace(min_dr, max_dr, num=steps).tolist()\n",
    "    range_gamma_ant = np.linspace(min_gamma_ant, max_gamma_ant, num=steps+2).tolist()\n",
    "    range_gamma_ret = np.linspace(min_gamma_ret, max_gamma_ret, num=steps+2).tolist()\n",
    "\n",
    "    # generate joint parameter space\n",
    "    param_ranges = [range_cb, range_br_axon, range_dr, range_gamma_ant, range_gamma_ret]\n",
    "    par_comb = list(itertools.product(*param_ranges))\n",
    "    \n",
    "    optimal_param = optimize(par_comb)\n",
    "    \n",
    "    min_cb, max_cb = new_bounds(min_cb, max_cb, optimal_param[0])\n",
    "    min_br_axon, max_br_axon = new_bounds(min_br_axon, max_br_axon, optimal_param[1])\n",
    "    min_dr, max_dr = new_bounds(min_dr, max_dr, optimal_param[2])\n",
    "    min_gamma_ant, max_gamma_ant = new_bounds(min_gamma_ant, max_gamma_ant, optimal_param[3])\n",
    "    min_gamma_ret, max_gamma_ret = new_bounds(min_gamma_ret, max_gamma_ret, optimal_param[4])\n",
    "    \n",
    "    print('\\nnew parameter bounds:')\n",
    "    print('cb:       \\t', min_cb, '\\t', max_cb)\n",
    "    print('br_axon:  \\t', min_br_axon, '\\t',max_br_axon)\n",
    "    print('dr:       \\t', min_dr, '\\t', max_dr)\n",
    "    print('gamma_ant:\\t', min_gamma_ant, '\\t',max_gamma_ant) \n",
    "    print('gamma_ret:\\t', min_gamma_ret, '\\t', max_gamma_ret)\n",
    "    \n",
    "print('\\nMost optimal parameters')\n",
    "print(optimal_param)"
   ]
  }
 ],
 "metadata": {
  "kernelspec": {
   "display_name": "Python 3 (ipykernel)",
   "language": "python",
   "name": "python3"
  },
  "language_info": {
   "codemirror_mode": {
    "name": "ipython",
    "version": 3
   },
   "file_extension": ".py",
   "mimetype": "text/x-python",
   "name": "python",
   "nbconvert_exporter": "python",
   "pygments_lexer": "ipython3",
   "version": "3.9.16"
  }
 },
 "nbformat": 4,
 "nbformat_minor": 5
}
