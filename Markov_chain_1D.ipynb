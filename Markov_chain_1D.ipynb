{
 "cells": [
  {
   "cell_type": "code",
   "execution_count": 1,
   "id": "703b4843-43e9-44dd-857d-db7c3217afd6",
   "metadata": {
    "tags": []
   },
   "outputs": [],
   "source": [
    "import numpy as np; np.set_printoptions(suppress=True, linewidth=190); np.seterr(divide='ignore')\n",
    "import pandas as pd; pd.set_option('display.width', 500)\n",
    "import matplotlib.pyplot as plt\n",
    "from scipy.linalg import expm\n",
    "from scipy.stats import norm\n",
    "from scipy.linalg import solve"
   ]
  },
  {
   "cell_type": "code",
   "execution_count": 2,
   "id": "c063eba8-e08e-4783-bb39-db4a20bdd17a",
   "metadata": {
    "tags": []
   },
   "outputs": [
    {
     "data": {
      "image/png": "[encoded data removed]",
      "text/plain": [
       "<Figure size 640x480 with 1 Axes>"
      ]
     },
     "metadata": {},
     "output_type": "display_data"
    },
    {
     "name": "stdout",
     "output_type": "stream",
     "text": [
      "birth rate drops to 0 at NSS = 201\n"
     ]
    }
   ],
   "source": [
    "NSS = 200\n",
    "C = 0.1\n",
    "K = 0.05\n",
    "\n",
    "\n",
    "def birth_rate(n):\n",
    "    return n*max(0.0, K+(C*(NSS-n)))\n",
    "def death_rate(n):\n",
    "    return n*K\n",
    "\n",
    "# plot birth rates over pop size\n",
    "pop_range = np.arange(0, 100000)\n",
    "birth_rates = np.array([birth_rate(pop) for pop in pop_range])\n",
    "zero_births = np.where(birth_rates == 0)[0][1]\n",
    "\n",
    "plt.plot(pop_range, birth_rates)\n",
    "plt.xlim([0, zero_births*1.1])\n",
    "plt.show()\n",
    "print('birth rate drops to 0 at NSS =', zero_births)\n",
    "\n",
    "# plt.plot(pop_range, np.array([birth_rate(pop)/(birth_rate(pop)+death_rate(pop)) for pop in pop_range]))\n",
    "# plt.xlim([0, zero_births*1.1])\n",
    "# plt.show()"
   ]
  },
  {
   "cell_type": "code",
   "execution_count": 3,
   "id": "995b6078-7719-44e5-a2c3-b88821181354",
   "metadata": {
    "tags": []
   },
   "outputs": [],
   "source": [
    "# def p_n_t(n, t):\n",
    "    \n",
    "#     birth_p_values = np.array([birth_rate(NSS+i)/(birth_rate(NSS+i)+death_rate(NSS+i)) for i in range(n)])\n",
    "#     print(birth_p_values)\n",
    "#     mean_birth_p = np.average(birth_p_values, weights=np.linspace(1, 0, birth_p_values.size))\n",
    "#     print(mean_birth_p)\n",
    "#     expected_n_events = int(t*(birth_rate(NSS)+death_rate(NSS)))\n",
    "    \n",
    "#     mean = expected_n_events*((2*mean_birth_p)-1)\n",
    "#     standard_deviation = np.sqrt(4*expected_n_events*mean_birth_p*(1-mean_birth_p))\n",
    "    \n",
    "#     return norm.pdf(n, mean, standard_deviation)\n",
    "\n",
    "# x = 100\n",
    "# p_n = p_n_t(x, T)\n",
    "# print(p_n)\n",
    "# if p_n < 1e-12:\n",
    "#     print('yes')"
   ]
  },
  {
   "cell_type": "code",
   "execution_count": 4,
   "id": "1c4f7d5e-97e3-49eb-b388-e7c20b6b85e3",
   "metadata": {
    "tags": []
   },
   "outputs": [
    {
     "name": "stdout",
     "output_type": "stream",
     "text": [
      "\n",
      "Transition rate matrix:\n",
      "[[  0.     0.     0.   ...   0.     0.     0.  ]\n",
      " [  0.05 -20.    19.95 ...   0.     0.     0.  ]\n",
      " [  0.     0.1  -39.8  ...   0.     0.     0.  ]\n",
      " ...\n",
      " [  0.     0.     0.   ... -39.8   29.85   0.  ]\n",
      " [  0.     0.     0.   ...  10.   -20.    10.  ]\n",
      " [  0.     0.     0.   ...   0.    10.05 -10.05]]\n",
      "\n",
      "Transition probability matrix:\n",
      "[[1.         0.         0.         ... 0.         0.         0.        ]\n",
      " [0.0025063  0.         0.         ... 0.13876121 0.41420222 0.41214151]\n",
      " [0.00000631 0.         0.         ... 0.13910898 0.41524032 0.41317444]\n",
      " ...\n",
      " [0.         0.         0.         ... 0.13910986 0.41524294 0.41317705]\n",
      " [0.         0.         0.         ... 0.13910986 0.41524294 0.41317705]\n",
      " [0.         0.         0.         ... 0.13910986 0.41524294 0.41317705]]\n",
      "\n",
      "State distribution at time 1000:\n",
      "[0.         0.         0.         0.         0.         0.         0.         0.         0.         0.         0.         0.         0.         0.         0.         0.         0.\n",
      " 0.         0.         0.         0.         0.         0.         0.         0.         0.         0.         0.         0.         0.         0.         0.         0.         0.\n",
      " 0.         0.         0.         0.         0.         0.         0.         0.         0.         0.         0.         0.         0.         0.         0.         0.         0.\n",
      " 0.         0.         0.         0.         0.         0.         0.         0.         0.         0.         0.         0.         0.         0.         0.         0.         0.\n",
      " 0.         0.         0.         0.         0.         0.         0.         0.         0.         0.         0.         0.         0.         0.         0.         0.         0.\n",
      " 0.         0.         0.         0.         0.         0.         0.         0.         0.         0.         0.         0.         0.         0.         0.         0.         0.\n",
      " 0.         0.         0.         0.         0.         0.         0.         0.         0.         0.         0.         0.         0.         0.         0.         0.         0.\n",
      " 0.         0.         0.         0.         0.         0.         0.         0.         0.         0.         0.         0.         0.         0.         0.         0.         0.\n",
      " 0.         0.         0.         0.         0.         0.         0.         0.         0.         0.         0.         0.         0.         0.         0.         0.         0.\n",
      " 0.         0.         0.         0.         0.         0.         0.         0.         0.         0.         0.         0.         0.         0.         0.         0.         0.\n",
      " 0.         0.         0.         0.         0.         0.         0.         0.         0.         0.         0.         0.         0.         0.         0.         0.         0.\n",
      " 0.         0.         0.         0.         0.         0.00000001 0.00000021 0.00000317 0.00004097 0.00044838 0.00401492 0.02796249 0.13910986 0.41524294 0.41317705]\n",
      "\n",
      "Expected value at time 1000:\n",
      "200.2040784951095\n"
     ]
    }
   ],
   "source": [
    "T = 1000\n",
    "\n",
    "init_state = NSS\n",
    "state_start = 0\n",
    "state_end = zero_births\n",
    "\n",
    "state_range = 1+state_end-state_start\n",
    "states = np.array([i for i in range(state_start, state_end+1)])\n",
    "\n",
    "# get transition rate matrix Q\n",
    "Q = np.zeros((state_range, state_range), dtype = np.float64)\n",
    "for i in range(state_range):\n",
    "    for j in range(state_range):\n",
    "        # get rate, depending on birth or death or neither\n",
    "        rate = 0\n",
    "        if i+1 == j:\n",
    "            rate = birth_rate(state_start+i)\n",
    "        elif i-1 == j:\n",
    "            rate = death_rate(state_start+i)\n",
    "        Q[i,j] = rate\n",
    "\n",
    "for i in range(state_range):\n",
    "    Q[i, i] = -np.sum(Q[i,:])\n",
    "Q[0, 0] = 0\n",
    "        \n",
    "print(\"\\nTransition rate matrix:\")\n",
    "print(Q)\n",
    "\n",
    "# get transition probability matrix P(t) \n",
    "P_t = expm(Q*T)\n",
    "print(\"\\nTransition probability matrix:\")\n",
    "print(P_t)\n",
    "\n",
    "# inital distribution of states\n",
    "N_0 = np.zeros(state_range)\n",
    "N_0[init_state-state_start] = 1 # set the intial distribution to be all NSS\n",
    "\n",
    "# distribution of states at time t\n",
    "N_t = N_0 @ P_t\n",
    "print(f\"\\nState distribution at time {T}:\")\n",
    "print(N_t)\n",
    "\n",
    "# expected value at time t\n",
    "E_N_t = np.average(states, weights=N_t)\n",
    "print(f\"\\nExpected value at time {T}:\")\n",
    "print(round(E_N_t ,16))"
   ]
  },
  {
   "cell_type": "code",
   "execution_count": 6,
   "id": "59627a7f-695d-4014-9045-90e7d0f30423",
   "metadata": {
    "tags": []
   },
   "outputs": [
    {
     "ename": "AttributeError",
     "evalue": "'int' object has no attribute 'append'",
     "output_type": "error",
     "traceback": [
      "\u001b[0;31m---------------------------------------------------------------------------\u001b[0m",
      "\u001b[0;31mAttributeError\u001b[0m                            Traceback (most recent call last)",
      "Cell \u001b[0;32mIn[6], line 17\u001b[0m\n\u001b[1;32m     14\u001b[0m     \u001b[38;5;66;03m# expected value at time t\u001b[39;00m\n\u001b[1;32m     15\u001b[0m     E_N_t \u001b[38;5;241m=\u001b[39m np\u001b[38;5;241m.\u001b[39maverage(states, weights\u001b[38;5;241m=\u001b[39mN_t)\n\u001b[0;32m---> 17\u001b[0m     \u001b[43mpop_size\u001b[49m\u001b[38;5;241;43m.\u001b[39;49m\u001b[43mappend\u001b[49m(E_N_t)\n\u001b[1;32m     18\u001b[0m     \u001b[38;5;28mprint\u001b[39m(\u001b[38;5;124mf\u001b[39m\u001b[38;5;124m'\u001b[39m\u001b[38;5;124mTransition rate matrix calculation \u001b[39m\u001b[38;5;132;01m{\u001b[39;00m\u001b[38;5;28mround\u001b[39m(((t)\u001b[38;5;241m/\u001b[39mT)\u001b[38;5;241m*\u001b[39m\u001b[38;5;241m100\u001b[39m,\u001b[38;5;250m \u001b[39m\u001b[38;5;241m2\u001b[39m)\u001b[38;5;132;01m}\u001b[39;00m\u001b[38;5;124m% complete     \u001b[39m\u001b[38;5;124m'\u001b[39m, end \u001b[38;5;241m=\u001b[39m \u001b[38;5;124m'\u001b[39m\u001b[38;5;130;01m\\r\u001b[39;00m\u001b[38;5;124m'\u001b[39m)\n\u001b[1;32m     20\u001b[0m plt\u001b[38;5;241m.\u001b[39mplot(time_steps, pop_size)\n",
      "\u001b[0;31mAttributeError\u001b[0m: 'int' object has no attribute 'append'"
     ]
    }
   ],
   "source": [
    "# inital distribution of states\n",
    "N_0 = np.zeros(state_range)\n",
    "N_0[init_state-state_start] = 1 # set the intial distribution to be all NSS\n",
    "\n",
    "pop_size = NSS\n",
    "time_steps = np.linspace(0, T+1, 100)\n",
    "for t in time_steps:\n",
    "    # get transition probability matrix P(t) \n",
    "    P_t = expm(Q*t)\n",
    "\n",
    "    # distribution of states at time t\n",
    "    N_t = N_0 @ P_t\n",
    "\n",
    "    # expected value at time t\n",
    "    E_N_t = np.average(states, weights=N_t)\n",
    "    \n",
    "    pop_size.append(E_N_t)\n",
    "    print(f'Transition rate matrix calculation {round(((t)/T)*100, 2)}% complete     ', end = '\\r')\n",
    "    \n",
    "plt.plot(time_steps, pop_size)"
   ]
  }
 ],
 "metadata": {
  "kernelspec": {
   "display_name": "Python 3 (ipykernel)",
   "language": "python",
   "name": "python3"
  },
  "language_info": {
   "codemirror_mode": {
    "name": "ipython",
    "version": 3
   },
   "file_extension": ".py",
   "mimetype": "text/x-python",
   "name": "python",
   "nbconvert_exporter": "python",
   "pygments_lexer": "ipython3",
   "version": "3.9.16"
  }
 },
 "nbformat": 4,
 "nbformat_minor": 5
}
