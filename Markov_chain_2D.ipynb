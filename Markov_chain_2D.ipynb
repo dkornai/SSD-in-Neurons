{
 "cells": [
  {
   "cell_type": "code",
   "execution_count": 1,
   "id": "703b4843-43e9-44dd-857d-db7c3217afd6",
   "metadata": {
    "tags": []
   },
   "outputs": [],
   "source": [
    "import numpy as np; np.set_printoptions(suppress=True, linewidth=100); np.seterr(divide='ignore')\n",
    "import pandas as pd; pd.set_option('display.width', 500)\n",
    "import matplotlib.pyplot as plt\n",
    "from scipy.linalg import expm"
   ]
  },
  {
   "cell_type": "code",
   "execution_count": 3,
   "id": "c063eba8-e08e-4783-bb39-db4a20bdd17a",
   "metadata": {
    "tags": []
   },
   "outputs": [
    {
     "data": {
      "image/png": "[encoded data removed]",
      "text/plain": [
       "<Figure size 640x480 with 1 Axes>"
      ]
     },
     "metadata": {},
     "output_type": "display_data"
    },
    {
     "name": "stdout",
     "output_type": "stream",
     "text": [
      "birth rate drops to 0 at NSS = 52\n",
      "this occurs at 52 wt and 104 mt\n"
     ]
    }
   ],
   "source": [
    "# NSS = 21\n",
    "# C = 0.013\n",
    "# K = 0.4\n",
    "# DELTA = 0.5\n",
    "\n",
    "NSS = 21\n",
    "C = 0.013\n",
    "K = 0.4\n",
    "DELTA = 0.5\n",
    "\n",
    "pop_range = np.arange(0, 500)\n",
    "birth_rate = np.array([pop*max(0, K+C*(NSS-pop)) for pop in pop_range])\n",
    "plt.plot(pop_range, birth_rate)\n",
    "plt.show()\n",
    "zero_births_wt = np.where(birth_rate == 0)[0][1]\n",
    "zero_births_mt = int(zero_births_wt*(1/DELTA))\n",
    "print('birth rate drops to 0 at NSS =', zero_births_wt)\n",
    "print(f'this occurs at {zero_births_wt} wt and {zero_births_mt} mt') "
   ]
  },
  {
   "cell_type": "code",
   "execution_count": 4,
   "id": "7706660e-8920-4621-9d1e-555546836802",
   "metadata": {
    "tags": []
   },
   "outputs": [],
   "source": [
    "def rate_calculator(\n",
    "    wt, mt, \n",
    "    Nss = NSS, c= C, k = K, delta = DELTA\n",
    "):\n",
    "    # wt_birth = round( wt*max(0.0, k+(C*(Nss-wt-(delta*mt)))) ,8)\n",
    "    # mt_birth = round( mt*max(0.0, k+(C*(Nss-wt-(delta*mt)))) ,8)\n",
    "    # wt_death = round( wt*k ,8)\n",
    "    # mt_death = round( mt*k ,8)\n",
    "    \n",
    "    wt_birth = wt*max(0.0, k+(C*(Nss-wt-(delta*mt))))\n",
    "    mt_birth = mt*max(0.0, k+(C*(Nss-wt-(delta*mt))))\n",
    "    wt_death = wt*k\n",
    "    mt_death = mt*k\n",
    "\n",
    "    return wt_birth, mt_birth, wt_death, mt_death"
   ]
  },
  {
   "cell_type": "code",
   "execution_count": 5,
   "id": "5ede56bc-1a4d-4d5e-995f-611b5a89039f",
   "metadata": {
    "tags": []
   },
   "outputs": [
    {
     "name": "stdout",
     "output_type": "stream",
     "text": [
      "5565 states\n",
      "matrices will be 5565*5565 and take 0.2307 GB\n"
     ]
    }
   ],
   "source": [
    "wt_init_state = 14\n",
    "\n",
    "wt_state_start = 0\n",
    "wt_state_end = zero_births_wt\n",
    "\n",
    "wt_state_range = 1+wt_state_end-wt_state_start\n",
    "wt_states = [i for i in range(wt_state_start, wt_state_end+1)]\n",
    "\n",
    "mt_init_state = 14\n",
    "\n",
    "mt_state_start = 0\n",
    "mt_state_end = zero_births_mt\n",
    "\n",
    "mt_state_range = 1+mt_state_end-mt_state_start\n",
    "mt_states = [i for i in range(mt_state_start, mt_state_end+1)]\n",
    "\n",
    "# get joint states\n",
    "states = [[(wt,mt) for mt in range(mt_state_start, mt_state_end+1)] for wt in range(wt_state_start, wt_state_end+1)]\n",
    "states_flat = [item for row in states for item in row]\n",
    "n_states = len(states_flat)\n",
    "init_state_index = states_flat.index((wt_init_state, mt_init_state))\n",
    "\n",
    "print(n_states, 'states')\n",
    "print(f'matrices will be {n_states}*{n_states} and take {round((n_states*n_states*8)/ (1024 ** 3) ,4)} GB')\n",
    "\n",
    "# get heteroplasmy of each state\n",
    "state_heteroplasmy = np.array([state[1]/(state[0]+state[1]) if state[0]+state[1] > 0.0 else np.NaN for state in states_flat])\n",
    "\n",
    "# get effective population size of each state\n",
    "state_eps = np.array([state[0]+(state[1]*DELTA) for state in states_flat])\n",
    "\n",
    "# get total copy number of each state\n",
    "state_ps = np.array([state[0]+state[1] for state in states_flat])"
   ]
  },
  {
   "cell_type": "code",
   "execution_count": 9,
   "id": "11dacc84-d055-4550-a4b2-df5e09468f24",
   "metadata": {
    "tags": []
   },
   "outputs": [
    {
     "name": "stdout",
     "output_type": "stream",
     "text": [
      "Transition rate matrix calculation 100.0% complete     \n",
      "Transition rate matrix:\n",
      "           (0, 0)  (0, 1)  (0, 2)  (0, 3)  (0, 4)  (0, 5)  (0, 6)  (0, 7)  (0, 8)  (0, 9)  ...  (53, 96)  (53, 97)  (53, 98)  (53, 99)  (53, 100)  (53, 101)  (53, 102)  (53, 103)  (53, 104)  (53, 105)\n",
      "(0, 0)       -0.0  0.0000  0.0000  0.0000  0.0000   0.000     0.0     0.0     0.0     0.0  ...       0.0       0.0       0.0       0.0        0.0        0.0        0.0        0.0        0.0        0.0\n",
      "(0, 1)        0.4 -1.0665  0.6665  0.0000  0.0000   0.000     0.0     0.0     0.0     0.0  ...       0.0       0.0       0.0       0.0        0.0        0.0        0.0        0.0        0.0        0.0\n",
      "(0, 2)        0.0  0.8000 -2.1200  1.3200  0.0000   0.000     0.0     0.0     0.0     0.0  ...       0.0       0.0       0.0       0.0        0.0        0.0        0.0        0.0        0.0        0.0\n",
      "(0, 3)        0.0  0.0000  1.2000 -3.1605  1.9605   0.000     0.0     0.0     0.0     0.0  ...       0.0       0.0       0.0       0.0        0.0        0.0        0.0        0.0        0.0        0.0\n",
      "(0, 4)        0.0  0.0000  0.0000  1.6000 -4.1880   2.588     0.0     0.0     0.0     0.0  ...       0.0       0.0       0.0       0.0        0.0        0.0        0.0        0.0        0.0        0.0\n",
      "...           ...     ...     ...     ...     ...     ...     ...     ...     ...     ...  ...       ...       ...       ...       ...        ...        ...        ...        ...        ...        ...\n",
      "(53, 101)     0.0  0.0000  0.0000  0.0000  0.0000   0.000     0.0     0.0     0.0     0.0  ...       0.0       0.0       0.0       0.0       40.4      -61.6        0.0        0.0        0.0        0.0\n",
      "(53, 102)     0.0  0.0000  0.0000  0.0000  0.0000   0.000     0.0     0.0     0.0     0.0  ...       0.0       0.0       0.0       0.0        0.0       40.8      -62.0        0.0        0.0        0.0\n",
      "(53, 103)     0.0  0.0000  0.0000  0.0000  0.0000   0.000     0.0     0.0     0.0     0.0  ...       0.0       0.0       0.0       0.0        0.0        0.0       41.2      -62.4        0.0        0.0\n",
      "(53, 104)     0.0  0.0000  0.0000  0.0000  0.0000   0.000     0.0     0.0     0.0     0.0  ...       0.0       0.0       0.0       0.0        0.0        0.0        0.0       41.6      -62.8        0.0\n",
      "(53, 105)     0.0  0.0000  0.0000  0.0000  0.0000   0.000     0.0     0.0     0.0     0.0  ...       0.0       0.0       0.0       0.0        0.0        0.0        0.0        0.0       42.0      -63.2\n",
      "\n",
      "[5724 rows x 5724 columns]\n"
     ]
    }
   ],
   "source": [
    "transition_rate_matrix = np.zeros((n_states, n_states), dtype = np.float64)\n",
    "for i in range(n_states):\n",
    "    for j in range(n_states):\n",
    "        if i != j:\n",
    "            # collect counts of wt and mt in both states\n",
    "\n",
    "            i_wt = states_flat[i][0]\n",
    "            i_mt = states_flat[i][1]\n",
    "            j_wt = states_flat[j][0]\n",
    "            j_mt = states_flat[j][1]\n",
    "\n",
    "            if i_wt == j_wt or i_mt == j_mt:\n",
    "                \n",
    "                \n",
    "                wt_birth, mt_birth, wt_death, mt_death = rate_calculator(i_wt, i_mt)\n",
    "\n",
    "                ## DETERMINE RATE BY TYPE OF TRANSITION\n",
    "                # transition is wt birth\n",
    "                if   i_wt+1 == j_wt and i_mt == j_mt:\n",
    "                    rate = wt_birth\n",
    "                    #print(states_flat[i], states_flat[j], rate, 'wt birth')\n",
    "                \n",
    "                # transition is mt birth\n",
    "                elif i_mt+1 == j_mt and i_wt == j_wt:\n",
    "                    rate = mt_birth\n",
    "                    #print(states_flat[i], states_flat[j], rate, 'mt birth')\n",
    "                \n",
    "                # transition is wt death\n",
    "                elif i_wt-1 == j_wt and i_mt == j_mt:\n",
    "                    rate = wt_death\n",
    "                    #print(states_flat[i], states_flat[j], rate, 'wt death')\n",
    "                \n",
    "                # transition is mt death\n",
    "                elif i_mt-1 == j_mt and i_wt == j_wt:\n",
    "                    rate = mt_death\n",
    "                    #print(states_flat[i], states_flat[j], rate, 'mt death')\n",
    "                \n",
    "                else:\n",
    "                    rate = 0.0\n",
    "                \n",
    "                transition_rate_matrix[i,j] = rate\n",
    "                \n",
    "        \n",
    "    print(f'Transition rate matrix calculation {round(((i+1)/n_states)*100, 2)}% complete     ', end = '\\r')\n",
    "\n",
    "for i in range(n_states):\n",
    "    transition_rate_matrix[i, i] = -np.sum(transition_rate_matrix[i,:])\n",
    "\n",
    "#print(transition_rate_matrix)\n",
    "\n",
    "print(\"\\nTransition rate matrix:\")\n",
    "df = pd.DataFrame(data=transition_rate_matrix, index=states_flat, columns=states_flat)\n",
    "print(df)"
   ]
  },
  {
   "cell_type": "code",
   "execution_count": 14,
   "id": "b9b61f8d-0d02-4e4c-9be1-c34d6e0dbc9f",
   "metadata": {
    "tags": []
   },
   "outputs": [
    {
     "name": "stdout",
     "output_type": "stream",
     "text": [
      "Transition probability matrix at time T\n",
      "[[1.         0.         0.         ... 0.         0.         0.        ]\n",
      " [0.61089846 0.00000283 0.00000377 ... 0.         0.         0.        ]\n",
      " [0.37738085 0.00000452 0.00000603 ... 0.         0.         0.        ]\n",
      " ...\n",
      " [0.11096837 0.00000478 0.00000637 ... 0.         0.         0.        ]\n",
      " [0.11025516 0.00000479 0.00000639 ... 0.         0.         0.        ]\n",
      " [0.10955116 0.00000481 0.00000641 ... 0.         0.         0.        ]]\n"
     ]
    }
   ],
   "source": [
    "T = 600\n",
    "transition_prob_matrix = expm(transition_rate_matrix*T)\n",
    "print(\"Transition probability matrix at time T\")\n",
    "print(transition_prob_matrix)"
   ]
  },
  {
   "cell_type": "code",
   "execution_count": 15,
   "id": "44e4f032-c30f-4a6e-b4a5-92cababb055e",
   "metadata": {
    "tags": []
   },
   "outputs": [
    {
     "name": "stdout",
     "output_type": "stream",
     "text": [
      "State distribution at time T = 600:\n",
      "[[0.16556497 0.00000361 0.00000482 ... 0.         0.         0.        ]\n",
      " [0.00059397 0.         0.         ... 0.         0.         0.        ]\n",
      " [0.00078649 0.         0.         ... 0.         0.         0.        ]\n",
      " ...\n",
      " [0.         0.         0.         ... 0.         0.         0.        ]\n",
      " [0.         0.         0.         ... 0.         0.         0.        ]\n",
      " [0.         0.         0.         ... 0.         0.         0.        ]]\n",
      "\n",
      "Marginal distribution on wt:\n",
      "[0.6633318  0.00059397 0.00078649 0.00104528 0.00139    0.00184382 0.00243284 0.00318469 0.00412627\n",
      " 0.00528041 0.00666154 0.00827056 0.01008955 0.01207709 0.01416534 0.0162599  0.01824356 0.01998449\n",
      " 0.0213485  0.02221436 0.02249008 0.02212736 0.02113136 0.01956344 0.01753564 0.01519738 0.01271649\n",
      " 0.01025796 0.00796436 0.00594139 0.00425076 0.00291083 0.00190366 0.00118618 0.00070237 0.00039407\n",
      " 0.00020882 0.00010414 0.00004867 0.00002122 0.00000859 0.00000321 0.0000011  0.00000034 0.00000009\n",
      " 0.00000002 0.00000001 0.         0.         0.         0.         0.         0.         0.        ]\n",
      "\n",
      "Marginal distribution on mt:\n",
      "[0.50223317 0.00000361 0.00000482 0.0000065  0.00000887 0.00001221 0.00001689 0.00002346 0.00003266\n",
      " 0.00004547 0.00006323 0.00008769 0.00012118 0.00016667 0.00022795 0.0003098  0.0004181  0.00055997\n",
      " 0.00074391 0.0009798  0.00127888 0.00165358 0.00211721 0.00268349 0.00336583 0.00417646 0.00512533\n",
      " 0.00621887 0.0074586  0.00883984 0.01035046 0.0119699  0.0136687  0.01540844 0.01714254 0.0188177\n",
      " 0.02037611 0.02175845 0.02290727 0.02377075 0.02430639 0.02448428 0.02428976 0.02372492 0.02280897\n",
      " 0.02157731 0.02007924 0.01837466 0.01653003 0.0146139  0.01269255 0.01082601 0.00906496 0.00744867\n",
      " 0.00600394 0.0047453  0.00367602 0.00278991 0.00207349 0.00150838 0.00107349 0.00074705 0.00050807\n",
      " 0.0003375  0.00021886 0.00013845 0.00008539 0.00005131 0.00003002 0.00001708 0.00000945 0.00000508\n",
      " 0.00000265 0.00000134 0.00000066 0.00000031 0.00000014 0.00000006 0.00000003 0.00000001 0.\n",
      " 0.         0.         0.         0.         0.         0.         0.         0.         0.\n",
      " 0.         0.         0.         0.         0.         0.         0.         0.         0.\n",
      " 0.         0.         0.         0.         0.         0.         0.        ]\n",
      "\n",
      "Stats:\n",
      "> Expected population sizes:\n",
      "\t wt: 6.46 , mt: 20.09\n",
      "> Expected effective population size:\n",
      "\t 16.5\n",
      "> Expected copy number:\n",
      "\t 26.54\n",
      "> Extinction probability:\n",
      "\t 0.1656\n",
      "> Expected heteroplasmy:\n",
      "\t 0.5965\n",
      "> Takeover probabilities:\n",
      "\t wt: 0.4978 , mt: 0.3367\n"
     ]
    }
   ],
   "source": [
    "initial_state_dist = np.zeros(n_states)\n",
    "initial_state_dist[init_state_index] = 1\n",
    "\n",
    "state_dist = initial_state_dist @ transition_prob_matrix\n",
    "state_dist_mat = np.reshape(state_dist, (wt_state_range, mt_state_range))\n",
    "print(f\"State distribution at time T = {T}:\")\n",
    "print(state_dist_mat)\n",
    "\n",
    "wt_marginal = np.sum(state_dist_mat, axis = 1)\n",
    "print(\"\\nMarginal distribution on wt:\")\n",
    "print(wt_marginal)\n",
    "mt_marginal = np.sum(state_dist_mat, axis = 0)\n",
    "print(\"\\nMarginal distribution on mt:\")\n",
    "print(mt_marginal)\n",
    "\n",
    "\n",
    "print(\"\\nStats:\")\n",
    "\n",
    "wt_expected_value = np.average(wt_states, weights=wt_marginal)\n",
    "mt_expected_value = np.average(mt_states, weights=mt_marginal)\n",
    "print(\"> Expected population sizes:\")\n",
    "print(\"\\t wt:\", round(wt_expected_value, 2),\", mt:\", round(mt_expected_value ,2))\n",
    "\n",
    "\n",
    "effective_pop_size = np.average(state_eps, weights = state_dist)\n",
    "print(\"> Expected effective population size:\")\n",
    "print(\"\\t\",round(effective_pop_size, 2))\n",
    "\n",
    "\n",
    "pop_size = np.average(state_ps, weights = state_dist)\n",
    "print(\"> Expected copy number:\")\n",
    "print(\"\\t\",round(pop_size, 2))\n",
    "\n",
    "\n",
    "p_pop0 = state_dist_mat[0,0]\n",
    "print(\"> Extinction probability:\")\n",
    "print(\"\\t\",round(p_pop0, 4))\n",
    "\n",
    "\n",
    "het_valid_mask = ~np.isnan(state_heteroplasmy)\n",
    "het_valid_data = state_heteroplasmy[het_valid_mask]\n",
    "het_valid_weights = state_dist[het_valid_mask]\n",
    "het_weighted_mean = np.sum(het_valid_data * het_valid_weights) / np.sum(het_valid_weights)\n",
    "print(\"> Expected heteroplasmy:\")\n",
    "print(\"\\t\",round(het_weighted_mean, 4))\n",
    "\n",
    "\n",
    "p_het_1 = round(np.sum(state_dist_mat[0,:])-p_pop0 ,4)\n",
    "p_het_0 = round(np.sum(state_dist_mat[:,0])-p_pop0 ,4)\n",
    "print(\"> Takeover probabilities:\")\n",
    "print(\"\\t wt:\", p_het_1,\", mt:\", p_het_0)"
   ]
  }
 ],
 "metadata": {
  "kernelspec": {
   "display_name": "Python 3 (ipykernel)",
   "language": "python",
   "name": "python3"
  },
  "language_info": {
   "codemirror_mode": {
    "name": "ipython",
    "version": 3
   },
   "file_extension": ".py",
   "mimetype": "text/x-python",
   "name": "python",
   "nbconvert_exporter": "python",
   "pygments_lexer": "ipython3",
   "version": "3.9.16"
  }
 },
 "nbformat": 4,
 "nbformat_minor": 5
}
